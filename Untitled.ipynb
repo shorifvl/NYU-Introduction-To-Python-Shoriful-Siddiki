{
 "cells": [
  {
   "cell_type": "code",
   "execution_count": 1,
   "metadata": {},
   "outputs": [
    {
     "name": "stdout",
     "output_type": "stream",
     "text": [
      "what is your phone number? 9175887355\n",
      "(917)5887355\n"
     ]
    }
   ],
   "source": [
    "number = input('what is your phone number? ')\n",
    "Acode = number[0:3]\n",
    "Rest = number[3:11]\n",
    "print(('({}){}').format(Acode,Rest))"
   ]
  },
  {
   "cell_type": "code",
   "execution_count": 2,
   "metadata": {},
   "outputs": [
    {
     "name": "stdout",
     "output_type": "stream",
     "text": [
      "what is your phone number? 9175887355\n",
      "(917)5887355\n"
     ]
    }
   ],
   "source": [
    "number = input('what is your phone number? ')\n",
    "Acode = number[0:3]\n",
    "Rest = number[3:11]\n",
    "print(('({}){}').format(Acode,Rest))"
   ]
  },
  {
   "cell_type": "code",
   "execution_count": 3,
   "metadata": {},
   "outputs": [
    {
     "name": "stdout",
     "output_type": "stream",
     "text": [
      "What is your phone number? \n",
      "9175887355\n",
      "175\n"
     ]
    }
   ],
   "source": [
    "question = input('What is your phone number? \\n')\n",
    "area_code = question[1:4]\n",
    "print(\"{}\".format(area_code))"
   ]
  },
  {
   "cell_type": "code",
   "execution_count": 4,
   "metadata": {},
   "outputs": [
    {
     "name": "stdout",
     "output_type": "stream",
     "text": [
      "What is your phone number? \n",
      "(917)5887355\n",
      "917\n"
     ]
    }
   ],
   "source": [
    "question = input('What is your phone number? \\n')\n",
    "area_code = question[1:4]\n",
    "print(\"{}\".format(area_code))"
   ]
  },
  {
   "cell_type": "code",
   "execution_count": null,
   "metadata": {},
   "outputs": [],
   "source": []
  }
 ],
 "metadata": {
  "kernelspec": {
   "display_name": "Python 3",
   "language": "python",
   "name": "python3"
  },
  "language_info": {
   "codemirror_mode": {
    "name": "ipython",
    "version": 3
   },
   "file_extension": ".py",
   "mimetype": "text/x-python",
   "name": "python",
   "nbconvert_exporter": "python",
   "pygments_lexer": "ipython3",
   "version": "3.6.4"
  }
 },
 "nbformat": 4,
 "nbformat_minor": 2
}
